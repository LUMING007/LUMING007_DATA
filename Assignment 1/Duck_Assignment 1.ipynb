{
 "cells": [
  {
   "cell_type": "code",
   "execution_count": 76,
   "metadata": {},
   "outputs": [],
   "source": [
    "import cv2\n",
    "import numpy as np\n",
    "import os\n",
    "import matplotlib.pyplot as plt\n",
    "from sklearn.naive_bayes import GaussianNB"
   ]
  },
  {
   "cell_type": "code",
   "execution_count": 77,
   "metadata": {},
   "outputs": [],
   "source": [
    "duck_image = [] \n",
    "duck_lable = []\n",
    "\n",
    "\n",
    "#定義訓練 樣本 和 標籤"
   ]
  },
  {
   "cell_type": "code",
   "execution_count": 78,
   "metadata": {},
   "outputs": [
    {
     "name": "stdout",
     "output_type": "stream",
     "text": [
      "14720\n",
      "14720\n"
     ]
    }
   ],
   "source": [
    "#正樣本 輸入\n",
    "duck_location=os.listdir('duck_image/')\n",
    "for duck in duck_location:\n",
    "        imageName =\"duck_image/\"+duck\n",
    "        img = cv2.imread(imageName,1)\n",
    "        dst = cv2.cvtColor(img,cv2.COLOR_BGR2GRAY)\n",
    "        info = dst.shape\n",
    "        list_image_1 = []\n",
    "        for i in range(info[0]):\n",
    "            for j in range(info[1]):\n",
    "                #pixel = float(dst[i][j])\n",
    "                duck_image.append(img[i][j])\n",
    "                duck_lable.append(0)\n",
    "        \n",
    "print(len(duck_image))\n",
    "print(len(duck_lable))"
   ]
  },
  {
   "cell_type": "code",
   "execution_count": 79,
   "metadata": {},
   "outputs": [
    {
     "name": "stdout",
     "output_type": "stream",
     "text": [
      "15820\n",
      "15820\n"
     ]
    }
   ],
   "source": [
    "#負樣本 輸入\n",
    "no_duck_image=os.listdir('no_duck_image/')\n",
    "for no_duck in no_duck_image:\n",
    "        imageName =\"no_duck_image/\"+no_duck\n",
    "        img = cv2.imread(imageName,1)\n",
    "        info = dst.shape\n",
    "        list_image_2 = []\n",
    "        for i in range(info[0]):\n",
    "            for j in range(info[1]):\n",
    "                duck_image.append(img[i][j])\n",
    "                duck_lable.append(1)\n",
    "print(len(duck_image))\n",
    "print(len(duck_lable))"
   ]
  },
  {
   "cell_type": "code",
   "execution_count": 80,
   "metadata": {},
   "outputs": [
    {
     "data": {
      "text/plain": [
       "array([[249, 249, 233],\n",
       "       [245, 245, 229],\n",
       "       [247, 244, 229],\n",
       "       ...,\n",
       "       [129, 125, 124],\n",
       "       [130, 126, 125],\n",
       "       [131, 127, 126]], dtype=uint8)"
      ]
     },
     "execution_count": 80,
     "metadata": {},
     "output_type": "execute_result"
    }
   ],
   "source": [
    "# 轉換陣列\n",
    "data_train = np.array(duck_image)\n",
    "data_lable = np.array(duck_lable)"
   ]
  },
  {
   "cell_type": "code",
   "execution_count": 81,
   "metadata": {},
   "outputs": [
    {
     "data": {
      "text/plain": [
       "GaussianNB(priors=None)"
      ]
     },
     "execution_count": 81,
     "metadata": {},
     "output_type": "execute_result"
    }
   ],
   "source": [
    "#訓練\n",
    "clf_pf = GaussianNB()\n",
    "clf_pf.fit(data_train,data_lable) "
   ]
  },
  {
   "cell_type": "code",
   "execution_count": 82,
   "metadata": {},
   "outputs": [
    {
     "name": "stdout",
     "output_type": "stream",
     "text": [
      "end\n"
     ]
    }
   ],
   "source": [
    "#測試 並將 鴨子用紅色標記\n",
    "\n",
    "image1 = cv2.imread(\"full_duck.jpg\",1)\n",
    "imageInfo1 = image1.shape\n",
    "height = imageInfo1[0]\n",
    "width = imageInfo1[1]\n",
    "deep=imageInfo1[2]\n",
    "newInfo=(height,width,deep)\n",
    "dst = np.zeros(newInfo,np.uint8)\n",
    "\n",
    "for i in range(0,height):\n",
    "    for j in range(0,width):\n",
    "        dst[i,j] =image1[i,j]\n",
    "\n",
    "for i in range(0,height):\n",
    "    for j in range(0,width):\n",
    "        (b,g,r)=image1[i,j]\n",
    "        b=int(b)\n",
    "        g=int(g)\n",
    "        r=int(r)\n",
    "        if clf_pf.predict([dst[i][j]])==0:\n",
    "            dst[i,j] = (0,0,255)\n",
    "            \n",
    "cv2.imwrite(\"dst_full_duck.jpg\",dst)\n",
    "print(\"end\")"
   ]
  },
  {
   "cell_type": "code",
   "execution_count": null,
   "metadata": {},
   "outputs": [],
   "source": []
  }
 ],
 "metadata": {
  "kernelspec": {
   "display_name": "Python 3",
   "language": "python",
   "name": "python3"
  },
  "language_info": {
   "codemirror_mode": {
    "name": "ipython",
    "version": 3
   },
   "file_extension": ".py",
   "mimetype": "text/x-python",
   "name": "python",
   "nbconvert_exporter": "python",
   "pygments_lexer": "ipython3",
   "version": "3.5.5"
  }
 },
 "nbformat": 4,
 "nbformat_minor": 2
}
